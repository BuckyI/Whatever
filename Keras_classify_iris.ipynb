{
  "nbformat": 4,
  "nbformat_minor": 0,
  "metadata": {
    "colab": {
      "provenance": [],
      "authorship_tag": "ABX9TyPZ294XgxSo3N9kWnj60eol",
      "include_colab_link": true
    },
    "kernelspec": {
      "name": "python3",
      "display_name": "Python 3"
    },
    "language_info": {
      "name": "python"
    }
  },
  "cells": [
    {
      "cell_type": "markdown",
      "metadata": {
        "id": "view-in-github",
        "colab_type": "text"
      },
      "source": [
        "<a href=\"https://colab.research.google.com/github/BuckyI/Whatever/blob/master/Keras_classify_iris.ipynb\" target=\"_parent\"><img src=\"https://colab.research.google.com/assets/colab-badge.svg\" alt=\"Open In Colab\"/></a>"
      ]
    },
    {
      "cell_type": "markdown",
      "source": [
        "这是一个初学者使用 ChatGPT 学习使用 Keras 分类 iris 数据集最后得到的代码。\n",
        "\n",
        "过程记录：[使用 ChatGPT 学习 Keras](https://www.notion.so/mightymjolnir/ChatGPT-Keras-4f0611a4ff484054a1151b4072f9e3b1)"
      ],
      "metadata": {
        "id": "2U0312TOrzDT"
      }
    },
    {
      "cell_type": "markdown",
      "source": [
        "# 第一个版本"
      ],
      "metadata": {
        "id": "i9K5I-OTsSBY"
      }
    },
    {
      "cell_type": "markdown",
      "source": [
        " load the Iris dataset"
      ],
      "metadata": {
        "id": "9NDa8CPhNTct"
      }
    },
    {
      "cell_type": "code",
      "source": [
        "import pandas as pd\n",
        "\n",
        "url = 'https://archive.ics.uci.edu/ml/machine-learning-databases/iris/iris.data'\n",
        "column_names = ['sepal_length', 'sepal_width', 'petal_length', 'petal_width', 'species']\n",
        "iris_data = pd.read_csv(url, names=column_names)\n"
      ],
      "metadata": {
        "id": "9YYNAnM4LKGZ"
      },
      "execution_count": 1,
      "outputs": []
    },
    {
      "cell_type": "markdown",
      "source": [
        "split the data into training and test sets"
      ],
      "metadata": {
        "id": "elmbHJFXNlfN"
      }
    },
    {
      "cell_type": "code",
      "source": [
        "from sklearn.model_selection import train_test_split\n",
        "\n",
        "X = iris_data[['sepal_length', 'sepal_width', 'petal_length', 'petal_width']]\n",
        "y = iris_data['species']\n",
        "\n",
        "X_train, X_test, y_train, y_test = train_test_split(X, y, test_size=0.33, random_state=42)"
      ],
      "metadata": {
        "id": "CftJDLS7M9NW"
      },
      "execution_count": 2,
      "outputs": []
    },
    {
      "cell_type": "markdown",
      "source": [
        " preprocess the data\n",
        "\n",
        " - 输入特征：连续数值，标准化处理\n",
        " - 输出分类：类别，转化为独热码"
      ],
      "metadata": {
        "id": "VaKBRTHANzKt"
      }
    },
    {
      "cell_type": "code",
      "source": [
        "from sklearn.preprocessing import StandardScaler, LabelEncoder\n",
        "from keras.utils import to_categorical\n",
        "\n",
        "scaler = StandardScaler()\n",
        "X_train = scaler.fit_transform(X_train)\n",
        "X_test = scaler.transform(X_test)\n",
        "\n",
        "# encode the target labels as categorical variables\n",
        "enc = LabelEncoder()\n",
        "y_train = enc.fit_transform(y_train)\n",
        "y_test = enc.transform(y_test)\n",
        "\n",
        "# convert the encoded labels to one-hot encoding\n",
        "y_train_one_hot = to_categorical(y_train)\n",
        "y_test_one_hot = to_categorical(y_test)"
      ],
      "metadata": {
        "id": "o_dYP3YDN1G9"
      },
      "execution_count": 3,
      "outputs": []
    },
    {
      "cell_type": "markdown",
      "source": [
        "define the model architecture, compile the model, and then fit the model to the training data"
      ],
      "metadata": {
        "id": "cgI9Gd0kN9XW"
      }
    },
    {
      "cell_type": "code",
      "source": [
        "import keras\n",
        "from keras.models import Sequential\n",
        "from keras.layers import Dense\n",
        "\n",
        "# define the model\n",
        "model = Sequential()\n",
        "model.add(Dense(10, input_dim=4, activation='relu'))\n",
        "model.add(Dense(8, activation='relu'))\n",
        "model.add(Dense(3, activation='softmax'))\n",
        "\n",
        "# compile the model\n",
        "model.compile(loss='categorical_crossentropy', optimizer='adam', metrics=['accuracy'])\n",
        "\n",
        "# fit the model to the training data\n",
        "model.fit(X_train, y_train_one_hot, epochs=50, verbose=0)\n"
      ],
      "metadata": {
        "colab": {
          "base_uri": "https://localhost:8080/"
        },
        "id": "RkMEvcRSPGkk",
        "outputId": "99e60761-5f7e-48c6-cdc3-5377223b434b"
      },
      "execution_count": 4,
      "outputs": [
        {
          "output_type": "execute_result",
          "data": {
            "text/plain": [
              "<keras.callbacks.History at 0x7f704b325310>"
            ]
          },
          "metadata": {},
          "execution_count": 4
        }
      ]
    },
    {
      "cell_type": "markdown",
      "source": [
        "evaluate the model on the test data"
      ],
      "metadata": {
        "id": "zcr8Pmv5kTdO"
      }
    },
    {
      "cell_type": "code",
      "source": [
        "# evaluate the model on the test data\n",
        "loss, accuracy = model.evaluate(X_test, y_test_one_hot, verbose=0)\n",
        "print('Test loss:', loss)\n",
        "print('Test accuracy:', accuracy)"
      ],
      "metadata": {
        "colab": {
          "base_uri": "https://localhost:8080/"
        },
        "id": "5W-BQlxwj8vI",
        "outputId": "a720dbf3-9d5c-421e-d4e5-2ce57cae9430"
      },
      "execution_count": 5,
      "outputs": [
        {
          "output_type": "stream",
          "name": "stdout",
          "text": [
            "Test loss: 0.6334460973739624\n",
            "Test accuracy: 0.800000011920929\n"
          ]
        }
      ]
    },
    {
      "cell_type": "markdown",
      "source": [
        "# 第二个版本"
      ],
      "metadata": {
        "id": "MOFGuOcTsM-0"
      }
    },
    {
      "cell_type": "code",
      "execution_count": 6,
      "metadata": {
        "colab": {
          "base_uri": "https://localhost:8080/"
        },
        "id": "xz7wCGncJ2Uv",
        "outputId": "45179bd8-9cba-4e13-8b3d-5cdb96f4ffef"
      },
      "outputs": [
        {
          "output_type": "stream",
          "name": "stdout",
          "text": [
            "2/2 [==============================] - 0s 6ms/step - loss: 0.5317 - accuracy: 0.8000\n",
            "Accuracy: 80.00\n"
          ]
        }
      ],
      "source": [
        "# import necessary libraries\n",
        "from keras.models import Sequential\n",
        "from keras.layers import Dense\n",
        "from sklearn.model_selection import train_test_split\n",
        "from sklearn import datasets\n",
        "from sklearn.preprocessing import StandardScaler, OneHotEncoder\n",
        "\n",
        "# load the iris dataset as an example\n",
        "iris = datasets.load_iris()\n",
        "X = iris.data\n",
        "y = iris.target\n",
        "\n",
        "# split the data into a training set and a test set\n",
        "X_train, X_test, y_train, y_test = train_test_split(X, y, test_size=0.33, random_state=42)\n",
        "\n",
        "# preprocessing\n",
        "scaler = StandardScaler()\n",
        "X_train = scaler.fit_transform(X_train)\n",
        "X_test = scaler.transform(X_test)\n",
        "enc = OneHotEncoder()\n",
        "y_train = enc.fit_transform(y_train.reshape(-1,1)).toarray()\n",
        "y_test = enc.transform(y_test.reshape(-1,1)).toarray()\n",
        "\n",
        "# build the model\n",
        "model = Sequential()\n",
        "model.add(Dense(10, input_dim=4, activation='relu'))\n",
        "model.add(Dense(8, activation='relu'))\n",
        "model.add(Dense(3, activation='softmax'))\n",
        "\n",
        "# compile the model\n",
        "model.compile(loss='categorical_crossentropy', optimizer='adam', metrics=['accuracy'])\n",
        "\n",
        "# fit the model to the training data\n",
        "model.fit(X_train, y_train, epochs=50, batch_size=32, verbose=0)\n",
        "\n",
        "# evaluate the model on the test data\n",
        "loss, accuracy = model.evaluate(X_test, y_test)\n",
        "print('Accuracy: %.2f' % (accuracy*100))\n"
      ]
    }
  ]
}